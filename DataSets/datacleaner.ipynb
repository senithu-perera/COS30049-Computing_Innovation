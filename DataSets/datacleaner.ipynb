{
 "cells": [
  {
   "cell_type": "code",
   "execution_count": 2,
   "metadata": {},
   "outputs": [
    {
     "name": "stderr",
     "output_type": "stream",
     "text": [
      "/var/folders/dc/mc6jcptx6zbf7clxs3q2dy200000gn/T/ipykernel_81184/1520471394.py:9: FutureWarning: A value is trying to be set on a copy of a DataFrame or Series through chained assignment using an inplace method.\n",
      "The behavior will change in pandas 3.0. This inplace method will never work because the intermediate object on which we are setting values always behaves as a copy.\n",
      "\n",
      "For example, when doing 'df[col].method(value, inplace=True)', try using 'df.method({col: value}, inplace=True)' or df[col] = df[col].method(value) instead, to perform the operation inplace on the original object.\n",
      "\n",
      "\n",
      "  data['Price'].fillna(data['Price'].median(), inplace=True)\n",
      "/var/folders/dc/mc6jcptx6zbf7clxs3q2dy200000gn/T/ipykernel_81184/1520471394.py:20: FutureWarning: A value is trying to be set on a copy of a DataFrame or Series through chained assignment using an inplace method.\n",
      "The behavior will change in pandas 3.0. This inplace method will never work because the intermediate object on which we are setting values always behaves as a copy.\n",
      "\n",
      "For example, when doing 'df[col].method(value, inplace=True)', try using 'df.method({col: value}, inplace=True)' or df[col] = df[col].method(value) instead, to perform the operation inplace on the original object.\n",
      "\n",
      "\n",
      "  data[column].fillna(data[column].mode()[0], inplace=True)\n"
     ]
    },
    {
     "name": "stdout",
     "output_type": "stream",
     "text": [
      "Dataset cleaned and saved as 'cleaned_housing_data.csv'.\n"
     ]
    }
   ],
   "source": [
    "# Import necessary libraries\n",
    "import pandas as pd\n",
    "import numpy as np\n",
    "\n",
    "# Load the dataset\n",
    "data = pd.read_csv('DataSets/dataset2.csv')\n",
    "\n",
    "# 1. Handle missing values in the 'Price' column by filling them with the median value\n",
    "data['Price'].fillna(data['Price'].median(), inplace=True)\n",
    "\n",
    "# 2. Convert the 'Date' column to datetime format\n",
    "data['Date'] = pd.to_datetime(data['Date'], format='%d/%m/%Y', errors='coerce')\n",
    "\n",
    "# 3. Handle missing values in the 'Distance' column (if any) - fill with median\n",
    "if data['Distance'].isnull().sum() > 0:\n",
    "    data['Distance'].fillna(data['Distance'].median(), inplace=True)\n",
    "\n",
    "# 4. Handle missing values in other columns (if any) by filling them with the mode (for categorical columns)\n",
    "for column in data.select_dtypes(include=['object']).columns:\n",
    "    data[column].fillna(data[column].mode()[0], inplace=True)\n",
    "\n",
    "# 5. Remove outliers in 'Price' using the Interquartile Range (IQR) method\n",
    "Q1 = data['Price'].quantile(0.25)\n",
    "Q3 = data['Price'].quantile(0.75)\n",
    "IQR = Q3 - Q1\n",
    "lower_bound = Q1 - 1.5 * IQR\n",
    "upper_bound = Q3 + 1.5 * IQR\n",
    "\n",
    "# Filter the dataset to remove outliers\n",
    "data = data[(data['Price'] >= lower_bound) & (data['Price'] <= upper_bound)]\n",
    "\n",
    "# 6. Remove any remaining missing data\n",
    "data.dropna(inplace=True)\n",
    "\n",
    "# 7. Save the cleaned dataset to a new CSV file\n",
    "data.to_csv('cleaned_housing_data2.csv', index=False)\n",
    "\n",
    "# Display a message\n",
    "print(\"Dataset cleaned and saved as 'cleaned_housing_data2.csv'.\")\n"
   ]
  }
 ],
 "metadata": {
  "kernelspec": {
   "display_name": "myenv",
   "language": "python",
   "name": "python3"
  },
  "language_info": {
   "codemirror_mode": {
    "name": "ipython",
    "version": 3
   },
   "file_extension": ".py",
   "mimetype": "text/x-python",
   "name": "python",
   "nbconvert_exporter": "python",
   "pygments_lexer": "ipython3",
   "version": "3.11.5"
  }
 },
 "nbformat": 4,
 "nbformat_minor": 2
}
